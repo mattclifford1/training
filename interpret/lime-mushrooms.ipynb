{
 "cells": [
  {
   "cell_type": "code",
   "execution_count": null,
   "id": "c34cf330",
   "metadata": {},
   "outputs": [],
   "source": [
    "# https://marcotcr.github.io/lime/tutorials/Tutorial%20-%20continuous%20and%20categorical%20features.html"
   ]
  },
  {
   "cell_type": "code",
   "execution_count": null,
   "id": "f603ee1d",
   "metadata": {},
   "outputs": [],
   "source": [
    "data = np.genfromtxt('/Users/marcotcr/phd/datasets/mushroom/agaricus-lepiota.data', delimiter=',', dtype='<U20')\n",
    "labels = data[:,0]\n",
    "le= sklearn.preprocessing.LabelEncoder()\n",
    "le.fit(labels)\n",
    "labels = le.transform(labels)\n",
    "class_names = le.classes_\n",
    "data = data[:,1:]"
   ]
  },
  {
   "cell_type": "code",
   "execution_count": null,
   "id": "0121304a",
   "metadata": {},
   "outputs": [],
   "source": [
    "categorical_features = range(22)"
   ]
  },
  {
   "cell_type": "code",
   "execution_count": null,
   "id": "5acd17ee",
   "metadata": {},
   "outputs": [],
   "source": [
    "\n",
    "\n",
    "feature_names = 'cap-shape,cap-surface,cap-color,bruises?,odor,gill-attachment,gill-spacing,gill-size,gill-color,stalk-shape,stalk-root,stalk-surface-above-ring, stalk-surface-below-ring, stalk-color-above-ring,stalk-color-below-ring,veil-type,veil-color,ring-number,ring-type,spore-print-color,population,habitat'.split(',')\n",
    "\n"
   ]
  },
  {
   "cell_type": "code",
   "execution_count": null,
   "id": "0af28caf",
   "metadata": {},
   "outputs": [],
   "source": []
  }
 ],
 "metadata": {
  "kernelspec": {
   "display_name": "Python 3 (ipykernel)",
   "language": "python",
   "name": "python3"
  },
  "language_info": {
   "codemirror_mode": {
    "name": "ipython",
    "version": 3
   },
   "file_extension": ".py",
   "mimetype": "text/x-python",
   "name": "python",
   "nbconvert_exporter": "python",
   "pygments_lexer": "ipython3",
   "version": "3.8.12"
  }
 },
 "nbformat": 4,
 "nbformat_minor": 5
}
