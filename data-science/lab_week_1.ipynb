{
 "cells": [
  {
   "cell_type": "code",
   "execution_count": 1,
   "id": "cad1da34",
   "metadata": {},
   "outputs": [],
   "source": [
    "from bs4 import BeautifulSoup\n",
    "\n",
    "import requests"
   ]
  },
  {
   "cell_type": "markdown",
   "id": "c494d010",
   "metadata": {},
   "source": [
    "# Task 1. Extracting Linked News Stories"
   ]
  },
  {
   "cell_type": "code",
   "execution_count": 2,
   "id": "46fafc82",
   "metadata": {},
   "outputs": [],
   "source": [
    "# get webpage source code\n",
    "url = 'https://www.theguardian.com/books/2022/jan/24/the-big-idea-should-animals-have-the-same-rights-as-humans'\n",
    "source = requests.get(url)\n",
    "soup = BeautifulSoup(source.text, \"html.parser\")"
   ]
  },
  {
   "cell_type": "code",
   "execution_count": 34,
   "id": "4f20cadc",
   "metadata": {},
   "outputs": [
    {
     "name": "stdout",
     "output_type": "stream",
     "text": [
      "number of links:  10\n"
     ]
    }
   ],
   "source": [
    "# get href links\n",
    "links = soup.find_all('a', attrs={\n",
    "    'data-link-name':'in body link'\n",
    "})\n",
    "hrefs = []\n",
    "for link in links:\n",
    "    hrefs.append(link['href'])\n",
    "\n",
    "print('number of links: ', len(hrefs))\n"
   ]
  },
  {
   "cell_type": "markdown",
   "id": "c25cb81f",
   "metadata": {},
   "source": [
    "# Task 2. Extracting Topics or Categories"
   ]
  },
  {
   "cell_type": "code",
   "execution_count": 39,
   "id": "7a5b07c1",
   "metadata": {},
   "outputs": [],
   "source": [
    "# no longer works as webspage source has changed\n",
    "links = soup.find_all('a', attrs={\n",
    "    'class':'submeta__link'\n",
    "})"
   ]
  },
  {
   "cell_type": "markdown",
   "id": "1d040062",
   "metadata": {},
   "source": [
    "# Task 3. Listing All News Stories in a Section"
   ]
  },
  {
   "cell_type": "code",
   "execution_count": 42,
   "id": "4fe448ab",
   "metadata": {},
   "outputs": [],
   "source": [
    "url = 'https://www.theguardian.com/uk/technology'\n",
    "req = requests.get(url)\n",
    "source = req.text\n",
    "soup = BeautifulSoup(source, 'html.parser')"
   ]
  },
  {
   "cell_type": "code",
   "execution_count": 49,
   "id": "516a701e",
   "metadata": {
    "scrolled": true
   },
   "outputs": [
    {
     "name": "stdout",
     "output_type": "stream",
     "text": [
      "https://www.theguardian.com/technology/2022/jan/24/mark-zuckerberg-says-meta-is-building-the-worlds-fastest-supercomputer Mark Zuckerberg says\n",
      "https://www.theguardian.com/technology/2022/jan/25/apple-airpods-3-review-solid-revamp-with-better-fit-and-longer-battery Solid revamp with be\n",
      "https://www.theguardian.com/technology/2022/jan/25/vodafone-to-switch-off-uk-3g-network-by-end-of-2023 Vodafone to switch o\n",
      "https://www.theguardian.com/money/2022/jan/25/why-cant-bt-connect-me-to-broadband-on-the-edge-of-london Why can’t BT connect\n",
      "https://www.theguardian.com/business/2022/jan/25/snake-oil-doubts-loom-over-tech-firm-darktraces-high-octane-sales-strategy Doubts loom over tec\n",
      "https://www.theguardian.com/world/2022/jan/24/should-athletes-be-worried-about-flaws-in-chinas-olympics-app The surveillance con\n"
     ]
    }
   ],
   "source": [
    "tech = soup.find_all('section', attrs={\n",
    "    'id': 'technology'\n",
    "})\n",
    "\n",
    "articles = tech[0].find_all('a', attrs={\n",
    "    'class': 'js-headline-text'\n",
    "})\n",
    "\n",
    "for article in articles: \n",
    "    print(article['href'][:], article.text[:20])"
   ]
  },
  {
   "cell_type": "markdown",
   "id": "90262942",
   "metadata": {},
   "source": [
    "# Task 4. List 50 Most Recent Technology-Related News Stories"
   ]
  },
  {
   "cell_type": "code",
   "execution_count": 55,
   "id": "fa3226d6",
   "metadata": {},
   "outputs": [],
   "source": [
    "def get_soup(url):\n",
    "    req = requests.get(url)\n",
    "    source = req.text\n",
    "    return BeautifulSoup(source, 'html.parser')\n"
   ]
  },
  {
   "cell_type": "code",
   "execution_count": 63,
   "id": "836c651f",
   "metadata": {},
   "outputs": [
    {
     "name": "stdout",
     "output_type": "stream",
     "text": [
      "50\n",
      "https://www.theguardian.com/business/2022/jan/25/3g-mobile-uk-network-vodafone-4g-5g-coverage\n"
     ]
    }
   ],
   "source": [
    "num_to_get = 50\n",
    "finished = False\n",
    "stories = []\n",
    "page = 1\n",
    "while not finished:\n",
    "    url = 'https://www.theguardian.com/technology?page='+str(page)\n",
    "    soup = get_soup(url)\n",
    "    tech_page = soup.find_all('a', attrs={\n",
    "        'data-link-name': 'article'\n",
    "    })\n",
    "    for link in tech_page:\n",
    "        if link['href'] not in stories:\n",
    "            stories.append(link['href'])\n",
    "        if len(stories) == num_to_get:\n",
    "            finished = True\n",
    "            break\n",
    "    page += 1\n",
    "print(len(stories))\n",
    "print(stories[1])"
   ]
  }
 ],
 "metadata": {
  "kernelspec": {
   "display_name": "Python 3 (ipykernel)",
   "language": "python",
   "name": "python3"
  },
  "language_info": {
   "codemirror_mode": {
    "name": "ipython",
    "version": 3
   },
   "file_extension": ".py",
   "mimetype": "text/x-python",
   "name": "python",
   "nbconvert_exporter": "python",
   "pygments_lexer": "ipython3",
   "version": "3.9.0"
  }
 },
 "nbformat": 4,
 "nbformat_minor": 5
}
