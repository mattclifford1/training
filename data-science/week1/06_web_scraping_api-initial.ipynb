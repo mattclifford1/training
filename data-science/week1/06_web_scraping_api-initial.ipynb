{
 "cells": [
  {
   "cell_type": "markdown",
   "metadata": {},
   "source": [
    "# The Guardian API\n",
    "\n",
    "In the `05_web_scraping_beautiful_soup.ipynb` notebook, we saw examples on how BeautifulSoup can be used \n",
    "to parse messy HTML, to extract information, and to act as a rudimentary web crawler. \n",
    "We used The Guardian as an illustrative example about how this can be achieved. \n",
    "The reason for choosing The Guardian was because they provide a REST API to their servers. \n",
    "With the REST API it is possible to perform specific queries on their servers, and to receive \n",
    "current information from their servers according to their API guide (ie in JSON)\n",
    "\n",
    "http://open-platform.theguardian.com/\n",
    "\n",
    "In order to use their API, you will need to register for an API key. \n",
    "At the time of writing (Jan 24, 2022) this was an automated process that can be completed at \n",
    "\n",
    "https://bonobo.capi.gutools.co.uk/register/developer\n",
    "\n",
    "On registration you will receive an API key which will look like: 303qwe2k-xxxx-xxxx-xxxx-eff86a248059\n",
    "\n",
    "The API is documented here: \n",
    "\n",
    "http://open-platform.theguardian.com/documentation/\n",
    "\n",
    "and Python bindings to their API are provided by The Guardian here\n",
    "\n",
    "https://github.com/prabhath6/theguardian-api-python\n",
    "\n",
    "and these can easily be integrated into a web-crawler based on API calls, rather than being based \n",
    "on HTML parsing, etc. \n",
    "\n",
    "We use four parameters in our queries here: \n",
    "\n",
    "1. `section`: the section of the newspaper that we are interested in querying. In this case we will look at \n",
    "the technology section \n",
    "\n",
    "2. `order-by`: We have specified that the newest items should be closer to the front of the query list \n",
    "\n",
    "3. `api-key`: In this notebook, the api-key is left as `test` (works here), but for *real* deployment of such a spider an API key obtained from Guardian should be specified. For the lab tasks, you should replace `test` API key with your personal API key. \n",
    "\n",
    "4. `page-size`: The number of results to return. "
   ]
  },
  {
   "cell_type": "code",
   "execution_count": 1,
   "metadata": {},
   "outputs": [],
   "source": [
    "from __future__ import print_function\n",
    "\n",
    "import requests \n",
    "import json "
   ]
  },
  {
   "cell_type": "markdown",
   "metadata": {},
   "source": [
    "# Inspect all sections and search for technology-based sections"
   ]
  },
  {
   "cell_type": "code",
   "execution_count": 2,
   "metadata": {},
   "outputs": [],
   "source": [
    "url = 'https://content.guardianapis.com/sections?api-key=test'\n",
    "req = requests.get(url)\n",
    "src = req.text "
   ]
  },
  {
   "cell_type": "code",
   "execution_count": 3,
   "metadata": {
    "scrolled": true
   },
   "outputs": [
    {
     "data": {
      "text/plain": [
       "'ok'"
      ]
     },
     "execution_count": 3,
     "metadata": {},
     "output_type": "execute_result"
    }
   ],
   "source": [
    "json.loads(src)['response']['status']"
   ]
  },
  {
   "cell_type": "code",
   "execution_count": 4,
   "metadata": {},
   "outputs": [
    {
     "name": "stdout",
     "output_type": "stream",
     "text": [
      "dict_keys(['status', 'userTier', 'total', 'results'])\n"
     ]
    }
   ],
   "source": [
    "sections = json.loads(src)['response']\n",
    "\n",
    "print(sections.keys())"
   ]
  },
  {
   "cell_type": "code",
   "execution_count": 5,
   "metadata": {},
   "outputs": [
    {
     "name": "stdout",
     "output_type": "stream",
     "text": [
      "{\n",
      "  \"apiUrl\": \"https://content.guardianapis.com/about\",\n",
      "  \"editions\": [\n",
      "    {\n",
      "      \"apiUrl\": \"https://content.guardianapis.com/about\",\n",
      "      \"code\": \"default\",\n",
      "      \"id\": \"about\",\n",
      "      \"webTitle\": \"About\",\n",
      "      \"webUrl\": \"https://www.theguardian.com/about\"\n",
      "    }\n",
      "  ],\n",
      "  \"id\": \"about\",\n",
      "  \"webTitle\": \"About\",\n",
      "  \"webUrl\": \"https://www.theguardian.com/about\"\n",
      "}\n"
     ]
    }
   ],
   "source": [
    "print(json.dumps(sections['results'][0], indent=2, sort_keys=True))"
   ]
  },
  {
   "cell_type": "code",
   "execution_count": 6,
   "metadata": {},
   "outputs": [
    {
     "name": "stdout",
     "output_type": "stream",
     "text": [
      "Technology https://content.guardianapis.com/technology\n"
     ]
    }
   ],
   "source": [
    "for result in sections['results']: \n",
    "    if 'tech' in result['id'].lower(): \n",
    "        print(result['webTitle'], result['apiUrl'])"
   ]
  },
  {
   "cell_type": "markdown",
   "metadata": {},
   "source": [
    "# Manual query on whole API"
   ]
  },
  {
   "cell_type": "code",
   "execution_count": 7,
   "metadata": {},
   "outputs": [],
   "source": [
    "# Specify the arguments\n",
    "args = {\n",
    "    'section': 'technology', \n",
    "    'order-by': 'newest', \n",
    "    'api-key': 'test', \n",
    "    'page-size': '100',\n",
    "    'q' : 'privacy%20AND%20data'\n",
    "}\n",
    "\n",
    "# Construct the URL\n",
    "base_url = 'http://content.guardianapis.com/search'\n",
    "url = '{}?{}'.format(\n",
    "    base_url, \n",
    "    '&'.join([\"{}={}\".format(kk, vv) for kk, vv in args.items()])\n",
    ")\n",
    "\n",
    "# Make the request and extract the source\n",
    "req = requests.get(url) \n",
    "src = req.text"
   ]
  },
  {
   "cell_type": "code",
   "execution_count": 8,
   "metadata": {},
   "outputs": [
    {
     "name": "stdout",
     "output_type": "stream",
     "text": [
      "Number of byes received: 60215\n"
     ]
    }
   ],
   "source": [
    "print('Number of byes received:', len(src))"
   ]
  },
  {
   "cell_type": "markdown",
   "metadata": {},
   "source": [
    "The API returns JSON, so we parse this using the in-built JSON library. \n",
    "The API specifies that all data are returned within the `response` key, even under failure. \n",
    "Thereofre, I have immediately descended to the response field "
   ]
  },
  {
   "cell_type": "markdown",
   "metadata": {},
   "source": [
    "# Parsing the JSON"
   ]
  },
  {
   "cell_type": "code",
   "execution_count": 9,
   "metadata": {},
   "outputs": [
    {
     "name": "stdout",
     "output_type": "stream",
     "text": [
      "The following are available:\n",
      "  ['currentPage', 'orderBy', 'pageSize', 'pages', 'results', 'startIndex', 'status', 'total', 'userTier']\n"
     ]
    }
   ],
   "source": [
    "response = json.loads(src)['response']\n",
    "print('The following are available:\\n ', sorted(response.keys()))"
   ]
  },
  {
   "cell_type": "markdown",
   "metadata": {},
   "source": [
    "# Verifying the status code\n",
    "\n",
    "It is important to verify that the status message is `ok` before continuing - if it is not `ok` no 'real' data \n",
    "will have been received. "
   ]
  },
  {
   "cell_type": "code",
   "execution_count": 10,
   "metadata": {},
   "outputs": [],
   "source": [
    "assert response['status'] == 'ok'"
   ]
  },
  {
   "cell_type": "markdown",
   "metadata": {},
   "source": [
    "# Listing the results \n",
    "\n",
    "The API standard states that the results will be found in the `results` field under the `response` field. \n",
    "Furthermore, the URLs will be found in the `webUrl` field, and the title will be found in the `webTitle` \n",
    "field. \n",
    "\n",
    "First let's look to see what a single result looks like in full, and then I will print a restricted \n",
    "set of parameters on the full set of results ."
   ]
  },
  {
   "cell_type": "code",
   "execution_count": 11,
   "metadata": {},
   "outputs": [
    {
     "name": "stdout",
     "output_type": "stream",
     "text": [
      "{\n",
      "  \"apiUrl\": \"https://content.guardianapis.com/technology/2022/jan/24/mark-zuckerberg-says-meta-is-building-the-worlds-fastest-supercomputer\",\n",
      "  \"id\": \"technology/2022/jan/24/mark-zuckerberg-says-meta-is-building-the-worlds-fastest-supercomputer\",\n",
      "  \"isHosted\": false,\n",
      "  \"pillarId\": \"pillar/news\",\n",
      "  \"pillarName\": \"News\",\n",
      "  \"sectionId\": \"technology\",\n",
      "  \"sectionName\": \"Technology\",\n",
      "  \"type\": \"article\",\n",
      "  \"webPublicationDate\": \"2022-01-24T19:42:25Z\",\n",
      "  \"webTitle\": \"Mark Zuckerberg says Meta is building the world\\u2019s fastest AI supercomputer\",\n",
      "  \"webUrl\": \"https://www.theguardian.com/technology/2022/jan/24/mark-zuckerberg-says-meta-is-building-the-worlds-fastest-supercomputer\"\n",
      "}\n"
     ]
    }
   ],
   "source": [
    "print(json.dumps(response['results'][0], indent=2, sort_keys=True))"
   ]
  },
  {
   "cell_type": "code",
   "execution_count": 12,
   "metadata": {},
   "outputs": [
    {
     "name": "stdout",
     "output_type": "stream",
     "text": [
      "https://www.theguardian.com/technology/2022/jan/24/mark-zuckerberg-say Mark Zuckerberg says\n",
      "https://www.theguardian.com/technology/2022/jan/23/how-my-husband-fina How my husband final\n",
      "https://www.theguardian.com/technology/2022/jan/21/end-to-end-encrypti End-to-end encryptio\n",
      "https://www.theguardian.com/technology/2022/jan/20/apple-airtags-stalk ‘I was just really s\n",
      "https://www.theguardian.com/technology/2022/jan/20/facebook-second-lif How Facebook took ov\n",
      "https://www.theguardian.com/technology/2022/jan/19/techscape-breaking- TechScape: The US go\n",
      "https://www.theguardian.com/technology/2022/jan/18/campaign-aims-to-st Campaign aims to sto\n",
      "https://www.theguardian.com/technology/2022/jan/15/ten-ways-to-take-co Ten ways to take con\n",
      "https://www.theguardian.com/technology/2022/jan/14/do-you-really-need- Do you really need y\n",
      "https://www.theguardian.com/technology/2022/jan/09/uk-data-watchdog-se UK data watchdog see\n",
      "https://www.theguardian.com/technology/2022/jan/06/france-fines-google France fines Google \n",
      "https://www.theguardian.com/technology/2021/dec/29/facebook-capitol-ri Facebook’s very bad \n",
      "https://www.theguardian.com/technology/2021/dec/28/techscape-tech-pred TechScape: looking b\n",
      "https://www.theguardian.com/technology/2021/dec/28/how-australias-far- How Australia’s far \n",
      "https://www.theguardian.com/technology/2021/dec/27/mark-zuckerberg-ai- ‘I do surfing’: an A\n",
      "https://www.theguardian.com/technology/2021/dec/25/facebook-how-to-fix Regulate, break up, \n",
      "https://www.theguardian.com/technology/2021/dec/16/australia-and-us-si Australia and US sig\n",
      "https://www.theguardian.com/technology/2021/dec/15/documents-link-huaw Documents link Huawe\n",
      "https://www.theguardian.com/technology/2021/dec/15/uk-parliament-pushe TechScape: UK parlia\n",
      "https://www.theguardian.com/technology/2021/dec/12/augmented-reality-a Matrix effects, rout\n",
      "https://www.theguardian.com/technology/2021/dec/08/techscape-china-ai- TechScape: how China\n",
      "https://www.theguardian.com/technology/2021/dec/07/best-mid-range-wifi Best mid-range wifi \n",
      "https://www.theguardian.com/technology/2021/nov/29/14in-macbook-pro-re 14in MacBook Pro rev\n",
      "https://www.theguardian.com/technology/2021/nov/21/meta-delays-encrypt Meta delays encrypte\n",
      "https://www.theguardian.com/technology/2021/nov/21/can-big-tech-ever-b Can big tech ever be\n",
      "https://www.theguardian.com/technology/2021/nov/18/crypto-cryptocurren Cryptographers are n\n",
      "https://www.theguardian.com/technology/2021/nov/11/car-hailing-app-dri Car hailing app driv\n",
      "https://www.theguardian.com/technology/2021/nov/07/the-dawn-of-tappigr The dawn of tappigra\n",
      "https://www.theguardian.com/technology/2021/nov/07/our-notion-of-priva ‘Our notion of priva\n",
      "https://www.theguardian.com/technology/2021/nov/05/twitter-says-any-mo Twitter says any mov\n",
      "https://www.theguardian.com/technology/2021/nov/03/techscape-china-jac TechScape: Xi Jinpin\n",
      "https://www.theguardian.com/technology/2021/nov/03/why-is-facebook-shu Why is Facebook shut\n",
      "https://www.theguardian.com/technology/2021/oct/30/facebook-papers-met Do the Facebook pape\n",
      "https://www.theguardian.com/technology/2021/oct/29/mocking-meta-facebo Mocking Meta: Facebo\n",
      "https://www.theguardian.com/technology/2021/oct/28/facebook-name-chang Facebook announces n\n",
      "https://www.theguardian.com/technology/2021/oct/28/facebook-mark-zucke Enter the metaverse:\n",
      "https://www.theguardian.com/technology/2021/oct/28/pixel-6-pro-review- Pixel 6 Pro review: \n",
      "https://www.theguardian.com/technology/2021/oct/26/google-parent-alpha Google parent Alphab\n",
      "https://www.theguardian.com/technology/2021/oct/26/conditioning-an-ent ‘Conditioning an ent\n",
      "https://www.theguardian.com/technology/2021/oct/25/facebook-profits-ea Facebook profits top\n",
      "https://www.theguardian.com/technology/2021/oct/25/five-questions-in-w Five questions in We\n",
      "https://www.theguardian.com/technology/2021/oct/25/facebook-rolls-out- Facebook rolls out c\n",
      "https://www.theguardian.com/technology/2021/oct/23/facebook-executive- Facebook executive s\n",
      "https://www.theguardian.com/technology/2021/oct/22/twitter-admits-bias Twitter admits bias \n",
      "https://www.theguardian.com/technology/2021/oct/20/facebook-rebrand-tw Facebonk, Bacefook, \n",
      "https://www.theguardian.com/education/2021/oct/18/privacy-fears-as-sch ICO to step in after\n",
      "https://www.theguardian.com/technology/2021/oct/18/facebook-jobs-eu-me Facebook to create 1\n",
      "https://www.theguardian.com/technology/2021/oct/15/apple-janneke-parri Apple fires employee\n",
      "https://www.theguardian.com/technology/2021/oct/15/whatsapp-to-bring-i WhatsApp to bring in\n",
      "https://www.theguardian.com/technology/2021/oct/15/facebook-must-prior Facebook must priori\n",
      "https://www.theguardian.com/technology/2021/oct/14/big-tech-legislatio Lawmakers seek to re\n",
      "https://www.theguardian.com/uk-news/2021/oct/14/telegram-warned-of-nur Telegram is warned a\n",
      "https://www.theguardian.com/technology/2021/oct/12/instagram-eating-di ‘She opens the app a\n",
      "https://www.theguardian.com/technology/2021/oct/10/facebook-nick-clegg Facebook: Nick Clegg\n",
      "https://www.theguardian.com/technology/2021/oct/09/facebook-whistleblo Facebook whistleblow\n",
      "https://www.theguardian.com/technology/2021/oct/08/revealed-anti-vacci Revealed: anti-vacci\n",
      "https://www.theguardian.com/technology/2021/oct/08/i-might-delete-it-f ‘I might delete it’:\n",
      "https://www.theguardian.com/technology/2021/oct/05/facebook-frances-ha Facebook whistleblow\n",
      "https://www.theguardian.com/technology/2021/oct/06/tell-us-are-you-con  Tell us: are you co\n",
      "https://www.theguardian.com/technology/2021/oct/05/facebook-harms-chil Facebook harms child\n",
      "https://www.theguardian.com/technology/2021/oct/05/facebook-whistleblo ‘Congress will be ta\n",
      "https://www.theguardian.com/technology/live/2021/oct/05/facebook-heari Facebook whistleblow\n",
      "https://www.theguardian.com/technology/2021/oct/05/facebook-whatsapp-i Tell us: how were yo\n",
      "https://www.theguardian.com/technology/2021/oct/02/facebook-whistleblo As a whistleblower p\n",
      "https://www.theguardian.com/technology/2021/sep/30/facebook-hearing-te Congress grills Face\n",
      "https://www.theguardian.com/technology/2021/sep/28/amazon-launches-hom Amazon launches home\n",
      "https://www.theguardian.com/technology/2021/sep/26/is-facebook-leading Is Facebook leading \n",
      "https://www.theguardian.com/technology/2021/sep/20/ios-15-release-ever iOS 15 release: ever\n",
      "https://www.theguardian.com/technology/2021/sep/20/ring-video-doorbell Ring Video Doorbell \n",
      "https://www.theguardian.com/technology/2021/sep/18/teenage-girls-body- Teenage girls, body \n",
      "https://www.theguardian.com/technology/2021/sep/15/mp-calls-for-facebo MP calls for Faceboo\n",
      "https://www.theguardian.com/technology/2021/sep/15/techscape-smart-gla TechScape: How smart\n",
      "https://www.theguardian.com/technology/2021/sep/10/nuisance-calls-coul Nuisance calls could\n",
      "https://www.theguardian.com/technology/2021/sep/09/facebook-stories-so Facebook announces l\n",
      "https://www.theguardian.com/technology/2021/sep/08/twitter-trials-soft Twitter trials ‘soft\n",
      "https://www.theguardian.com/technology/2021/sep/08/facebook-encryption Facebook encryption \n",
      "https://www.theguardian.com/technology/2021/sep/03/apple-delays-plans- Apple delays plans t\n",
      "https://www.theguardian.com/technology/2021/sep/03/appletoo-apple-empl #AppleToo: employees\n",
      "https://www.theguardian.com/technology/2021/sep/02/ireland-watchdog-fi Ireland watchdog fin\n",
      "https://www.theguardian.com/technology/2021/sep/02/apple-concedes-on-a Apple concedes on ‘a\n",
      "https://www.theguardian.com/technology/2021/sep/02/uk-childrens-digita UK children’s digita\n",
      "https://www.theguardian.com/technology/2021/aug/31/instagram-to-requir Instagram to require\n",
      "https://www.theguardian.com/technology/2021/aug/26/what-gdpr-why-does- What is GDPR and why\n",
      "https://www.theguardian.com/technology/2021/aug/26/uk-to-overhaul-priv UK to overhaul priva\n",
      "https://www.theguardian.com/technology/2021/aug/19/australian-watchdog Australian watchdog \n",
      "https://www.theguardian.com/technology/2021/aug/18/uk-governments-chil TechScape: How the U\n",
      "https://www.theguardian.com/technology/2021/aug/13/uk-security-chiefs- UK security chiefs i\n",
      "https://www.theguardian.com/technology/2021/aug/12/tiktok-acts-on-teen TikTok acts on teen \n",
      "https://www.theguardian.com/technology/2021/aug/11/techscape-apple-iph TechScape: Is Apple \n",
      "https://www.theguardian.com/technology/2021/aug/02/why-right-to-repair Why right to repair \n",
      "https://www.theguardian.com/technology/2021/jun/23/letting-users-bypas Letting users bypass\n",
      "https://www.theguardian.com/technology/2021/jun/13/whatsapp-boss-decri WhatsApp boss decrie\n",
      "https://www.theguardian.com/technology/2021/jun/12/competition-watchdo Competition watchdog\n",
      "https://www.theguardian.com/technology/live/2021/jun/07/wwdc-2021-appl WWDC 2021: Apple unv\n",
      "https://www.theguardian.com/technology/2021/jun/07/apple-overhauls-sir Apple overhauls Siri\n",
      "https://www.theguardian.com/technology/2021/jun/07/apple-settles-iphon Apple paid woman mil\n",
      "https://www.theguardian.com/technology/2021/may/30/gadgets-have-stoppe Gadgets have stopped\n",
      "https://www.theguardian.com/technology/2021/may/20/apple-epic-games-tr Epic v Apple: Tim Co\n",
      "https://www.theguardian.com/technology/2021/may/19/android-12-everythi Android 12: everythi\n",
      "https://www.theguardian.com/technology/2021/may/19/privacy-by-design-g ‘Privacy by design’:\n"
     ]
    }
   ],
   "source": [
    "for result in response['results']: \n",
    "    print(result['webUrl'][:70], result['webTitle'][:20])"
   ]
  },
  {
   "cell_type": "code",
   "execution_count": null,
   "metadata": {},
   "outputs": [],
   "source": []
  }
 ],
 "metadata": {
  "kernelspec": {
   "display_name": "Python 3 (ipykernel)",
   "language": "python",
   "name": "python3"
  },
  "language_info": {
   "codemirror_mode": {
    "name": "ipython",
    "version": 3
   },
   "file_extension": ".py",
   "mimetype": "text/x-python",
   "name": "python",
   "nbconvert_exporter": "python",
   "pygments_lexer": "ipython3",
   "version": "3.9.0"
  }
 },
 "nbformat": 4,
 "nbformat_minor": 4
}
