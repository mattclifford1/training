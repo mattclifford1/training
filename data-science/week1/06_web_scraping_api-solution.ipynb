{
 "cells": [
  {
   "cell_type": "markdown",
   "metadata": {},
   "source": [
    "# The Guardian API\n",
    "\n",
    "In the `05_web_scraping_beautiful_soup.ipynb` notebook, we saw examples on how BeautifulSoup can be used \n",
    "to parse messy HTML, to extract information, and to act as a rudimentary web crawler. \n",
    "We used The Guardian as an illustrative example about how this can be achieved. \n",
    "The reason for choosing The Guardian was because they provide a REST API to their servers. \n",
    "With the REST API it is possible to perform specific queries on their servers, and to receive \n",
    "current information from their servers according to their API guide (ie in JSON)\n",
    "\n",
    "http://open-platform.theguardian.com/\n",
    "\n",
    "In order to use their API, you will need to register for an API key. \n",
    "At the time of writing (Jan 28, 2020) this was an automated process that can be completed at \n",
    "\n",
    "https://bonobo.capi.gutools.co.uk/register/developer\n",
    "\n",
    "On registration you will receive an API key which will look like: 303qwe2k-xxxx-xxxx-xxxx-eff86a248059\n",
    "\n",
    "The API is documented here: \n",
    "\n",
    "http://open-platform.theguardian.com/documentation/\n",
    "\n",
    "and Python bindings to their API are provided by The Guardian here\n",
    "\n",
    "https://github.com/prabhath6/theguardian-api-python\n",
    "\n",
    "and these can easily be integrated into a web-crawler based on API calls, rather than being based \n",
    "on HTML parsing, etc. \n",
    "\n",
    "We use four parameters in our queries here: \n",
    "\n",
    "1. `section`: the section of the newspaper that we are interested in querying. In this case we will look at \n",
    "the technology section \n",
    "\n",
    "2. `order-by`: We have specified that the newest items should be closer to the front of the query list \n",
    "\n",
    "3. `api-key`: In this notebook, the api-key is left as `test` (works here), but for *real* deployment of such a spider an API key obtained from Guardian should be specified. For the lab tasks, you should replace `test` API key with your personal API key. \n",
    "\n",
    "4. `page-size`: The number of results to return. "
   ]
  },
  {
   "cell_type": "code",
   "execution_count": 74,
   "metadata": {},
   "outputs": [],
   "source": [
    "from __future__ import print_function\n",
    "\n",
    "import requests \n",
    "import json "
   ]
  },
  {
   "cell_type": "markdown",
   "metadata": {},
   "source": [
    "Hard coding a secret such as a password or a key in a code file is a security smell. Instead of hard coding your api-key, you should store your api-key in a config file."
   ]
  },
  {
   "cell_type": "markdown",
   "metadata": {},
   "source": [
    "# Fetch Api-Key from Config File \n",
    "#### Note: You need to create a config file with your API your api-key and place it under the same directory as this notebook, otherwise the code block below will not work \n",
    "\n",
    "The content on my config file looks like below: \n",
    "\n",
    "```\n",
    "[guardian]\n",
    "api-key=303qwe2k-xxxx-xxxx-xxxx-eff86a248059\n",
    "```\n",
    "\n",
    "My config file is named: ```myconfig.cfg```\n",
    "\n",
    "Note: The api-key above is not a real Guardian api-key. If you use that, you will get an error. "
   ]
  },
  {
   "cell_type": "code",
   "execution_count": 75,
   "metadata": {},
   "outputs": [],
   "source": [
    "from configparser import ConfigParser\n",
    "\n",
    "parser = ConfigParser()\n",
    "parser.read('./myconfig.cfg')\n",
    "\n",
    "myapikey = parser.get('guardian', 'api-key')\n",
    "\n",
    "# If you cannot create a config file, comment the three lines above and uncomment the line below.\n",
    "\n",
    "# myapikey = '303qwe2k-xxxx-xxxx-xxxx-eff86a248059' # Replace with your api-key. This is not a real api-key.\n",
    "# print(myapikey)"
   ]
  },
  {
   "cell_type": "markdown",
   "metadata": {},
   "source": [
    "# Inspect all sections and search for technology-based sections"
   ]
  },
  {
   "cell_type": "code",
   "execution_count": 76,
   "metadata": {},
   "outputs": [],
   "source": [
    "url = 'https://content.guardianapis.com/sections?api-key=' + myapikey\n",
    "req = requests.get(url)\n",
    "src = req.text "
   ]
  },
  {
   "cell_type": "code",
   "execution_count": 77,
   "metadata": {
    "scrolled": true
   },
   "outputs": [
    {
     "data": {
      "text/plain": [
       "'ok'"
      ]
     },
     "execution_count": 77,
     "metadata": {},
     "output_type": "execute_result"
    }
   ],
   "source": [
    "json.loads(src)['response']['status']"
   ]
  },
  {
   "cell_type": "code",
   "execution_count": 78,
   "metadata": {},
   "outputs": [
    {
     "name": "stdout",
     "output_type": "stream",
     "text": [
      "dict_keys(['status', 'userTier', 'total', 'results'])\n"
     ]
    }
   ],
   "source": [
    "sections = json.loads(src)['response']\n",
    "\n",
    "print(sections.keys())"
   ]
  },
  {
   "cell_type": "code",
   "execution_count": 79,
   "metadata": {},
   "outputs": [
    {
     "name": "stdout",
     "output_type": "stream",
     "text": [
      "{\n",
      "  \"apiUrl\": \"https://content.guardianapis.com/about\",\n",
      "  \"editions\": [\n",
      "    {\n",
      "      \"apiUrl\": \"https://content.guardianapis.com/about\",\n",
      "      \"code\": \"default\",\n",
      "      \"id\": \"about\",\n",
      "      \"webTitle\": \"About\",\n",
      "      \"webUrl\": \"https://www.theguardian.com/about\"\n",
      "    }\n",
      "  ],\n",
      "  \"id\": \"about\",\n",
      "  \"webTitle\": \"About\",\n",
      "  \"webUrl\": \"https://www.theguardian.com/about\"\n",
      "}\n"
     ]
    }
   ],
   "source": [
    "print(json.dumps(sections['results'][0], indent=2, sort_keys=True))"
   ]
  },
  {
   "cell_type": "code",
   "execution_count": 80,
   "metadata": {},
   "outputs": [
    {
     "name": "stdout",
     "output_type": "stream",
     "text": [
      "Technology https://content.guardianapis.com/technology\n"
     ]
    }
   ],
   "source": [
    "for result in sections['results']: \n",
    "    if 'tech' in result['id'].lower(): \n",
    "        print(result['webTitle'], result['apiUrl'])"
   ]
  },
  {
   "cell_type": "markdown",
   "metadata": {},
   "source": [
    "# Manual query on whole API"
   ]
  },
  {
   "cell_type": "code",
   "execution_count": 81,
   "metadata": {},
   "outputs": [],
   "source": [
    "# Specify the arguments\n",
    "args = {\n",
    "    'section': 'technology', \n",
    "    'order-by': 'newest', \n",
    "    'api-key': myapikey, \n",
    "    'page-size': '100',\n",
    "#     'q' : 'privacy%20AND%20data'\n",
    "}\n",
    "\n",
    "# Construct the URL\n",
    "base_url = 'http://content.guardianapis.com/search'\n",
    "url = '{}?{}'.format(\n",
    "    base_url, \n",
    "    '&'.join([\"{}={}\".format(kk, vv) for kk, vv in args.items()])\n",
    ")\n",
    "\n",
    "# Make the request and extract the source\n",
    "req = requests.get(url) \n",
    "src = req.text"
   ]
  },
  {
   "cell_type": "code",
   "execution_count": 82,
   "metadata": {},
   "outputs": [
    {
     "name": "stdout",
     "output_type": "stream",
     "text": [
      "Number of byes received: 59669\n"
     ]
    }
   ],
   "source": [
    "print('Number of byes received:', len(src))"
   ]
  },
  {
   "cell_type": "markdown",
   "metadata": {},
   "source": [
    "The API returns JSON, so we parse this using the in-built JSON library. \n",
    "The API specifies that all data are returned within the `response` key, even under failure. \n",
    "Thereofre, I have immediately descended to the response field "
   ]
  },
  {
   "cell_type": "markdown",
   "metadata": {},
   "source": [
    "# Parsing the JSON"
   ]
  },
  {
   "cell_type": "code",
   "execution_count": 83,
   "metadata": {},
   "outputs": [
    {
     "name": "stdout",
     "output_type": "stream",
     "text": [
      "The following are available:\n",
      "  ['currentPage', 'orderBy', 'pageSize', 'pages', 'results', 'startIndex', 'status', 'total', 'userTier']\n"
     ]
    }
   ],
   "source": [
    "response = json.loads(src)['response']\n",
    "print('The following are available:\\n ', sorted(response.keys()))"
   ]
  },
  {
   "cell_type": "markdown",
   "metadata": {},
   "source": [
    "# Verifying the status code\n",
    "\n",
    "It is important to verify that the status message is `ok` before continuing - if it is not `ok` no 'real' data \n",
    "will have been received. "
   ]
  },
  {
   "cell_type": "code",
   "execution_count": 84,
   "metadata": {},
   "outputs": [],
   "source": [
    "assert response['status'] == 'ok'"
   ]
  },
  {
   "cell_type": "markdown",
   "metadata": {},
   "source": [
    "# Listing the results \n",
    "\n",
    "The API standard states that the results will be found in the `results` field under the `response` field. \n",
    "Furthermore, the URLs will be found in the `webUrl` field, and the title will be found in the `webTitle` \n",
    "field. \n",
    "\n",
    "First let's look to see what a single result looks like in full, and then I will print a restricted \n",
    "set of parameters on the full set of results ."
   ]
  },
  {
   "cell_type": "code",
   "execution_count": 85,
   "metadata": {},
   "outputs": [
    {
     "name": "stdout",
     "output_type": "stream",
     "text": [
      "{\n",
      "  \"apiUrl\": \"https://content.guardianapis.com/technology/2022/jan/26/spotify-neil-young-joe-rogan-covid-misinformation\",\n",
      "  \"id\": \"technology/2022/jan/26/spotify-neil-young-joe-rogan-covid-misinformation\",\n",
      "  \"isHosted\": false,\n",
      "  \"pillarId\": \"pillar/news\",\n",
      "  \"pillarName\": \"News\",\n",
      "  \"sectionId\": \"technology\",\n",
      "  \"sectionName\": \"Technology\",\n",
      "  \"type\": \"article\",\n",
      "  \"webPublicationDate\": \"2022-01-27T12:26:09Z\",\n",
      "  \"webTitle\": \"Spotify to remove Neil Young music in feud over Joe Rogan\\u2019s false Covid claims\",\n",
      "  \"webUrl\": \"https://www.theguardian.com/technology/2022/jan/26/spotify-neil-young-joe-rogan-covid-misinformation\"\n",
      "}\n"
     ]
    }
   ],
   "source": [
    "print(json.dumps(response['results'][0], indent=2, sort_keys=True))"
   ]
  },
  {
   "cell_type": "markdown",
   "metadata": {},
   "source": [
    "## Task 6. Response Statistics  \n",
    "\n",
    "Use Guardian's API to identify the count of all news stories published under the Technology section. List the page size and the number of pages in the result set.\n",
    "\n",
    "Note that I commented out ```'q' : 'privacy%20AND%20data'``` in the args few blocks above."
   ]
  },
  {
   "cell_type": "code",
   "execution_count": 86,
   "metadata": {},
   "outputs": [
    {
     "name": "stdout",
     "output_type": "stream",
     "text": [
      "Total news stories: 54785\n",
      "Pages: 548\n",
      "Page size: 100\n"
     ]
    }
   ],
   "source": [
    "# Solution to Task 6\n",
    "\n",
    "print('Total news stories:', response['total']) \n",
    "print('Pages:', response['pages'])\n",
    "print('Page size:', response['pageSize'])"
   ]
  },
  {
   "cell_type": "markdown",
   "metadata": {},
   "source": [
    "## Task 7. News Stories About a Specific Topic \n",
    "\n",
    "Return all stories in the technology section that are about privacy.\n",
    "\n",
    "Solution: ```'q' : 'privacy'```\n",
    "\n",
    "Filter the stories that talk about WhatsApp and Signal.  \n",
    "\n",
    "Solution: ```'q' : 'privacy%20AND%20whatsapp%20AND%20signal'```\n",
    "\n",
    "\n",
    "Are there any privacy stories talking about privacy, Whatsapp, and Signal that do not talk about AI? \n",
    "\n",
    "Solution: ```'q' : 'privacy%20AND%20whatsapp%20AND%20signal%20AND%20NOT%20(AI%20OR%20%22Artificial%20Intelligence%22)%20'```\n",
    "> privacy AND whatsapp AND signal AND NOT (AI OR \"Artificial Intelligence\")\n",
    "\n",
    "\n",
    "List these stories. Solution in the code cell below. \n",
    "\n",
    "\n",
    "Other search queries 7a and 7b are similar to Task 7. I list the attributes below. \n",
    "\n",
    "#### 7a. All News Stories About a Phrase \n",
    "\n",
    "Return all news stories that are about stock squeeze. \n",
    "\n",
    "```'q' : '%22short%20squeeze%22'```\n",
    "\n",
    "List the ones that are in the business section of the Guardian. \n",
    "\n",
    "```\n",
    "'q' : '%22short%20squeeze%22'\n",
    "'section' : 'business'\n",
    "```\n",
    "\n",
    "\n",
    "#### 7b. All News Stories About a Person \n",
    "\n",
    "Return all news stories about Elon Musk published by Guardian in 2020 and 2022.  \n",
    "\n",
    "How many of these news stories are about Dogecoin?  Of the stories that are about Elon Musk and Dogecoin, how many of those do not mention Tesla?  \n",
    "\n",
    "```\n",
    "'from-date':'2020-01-01'\n",
    "'to-date':'2022-01-25'\n",
    "'order-by':'newest'\n",
    "'page:1'\n",
    "'q':'%22Elon%20Musk%22%20AND%20dogecoin%20AND%20NOT%20Tesla' \n",
    "```\n",
    "\\# q = \"Elon Musk\" AND dogecoin AND NOT Tesla\n",
    "\n",
    "Hints. In the search string, you could use ```%20``` for ```space```; ```%22``` for ```double quote```; ```AND``` for conjunction; ```OR``` for disjunction; and ```NOT``` for negation"
   ]
  },
  {
   "cell_type": "code",
   "execution_count": 87,
   "metadata": {},
   "outputs": [
    {
     "name": "stdout",
     "output_type": "stream",
     "text": [
      "Number of byes received: 5992\n",
      "The following are available:\n",
      "  ['currentPage', 'orderBy', 'pageSize', 'pages', 'results', 'startIndex', 'status', 'total', 'userTier']\n",
      "{\n",
      "  \"apiUrl\": \"https://content.guardianapis.com/technology/2021/oct/08/i-might-delete-it-facebooks-problem-with-younger-users\",\n",
      "  \"id\": \"technology/2021/oct/08/i-might-delete-it-facebooks-problem-with-younger-users\",\n",
      "  \"isHosted\": false,\n",
      "  \"pillarId\": \"pillar/news\",\n",
      "  \"pillarName\": \"News\",\n",
      "  \"sectionId\": \"technology\",\n",
      "  \"sectionName\": \"Technology\",\n",
      "  \"type\": \"article\",\n",
      "  \"webPublicationDate\": \"2021-10-08T13:56:08Z\",\n",
      "  \"webTitle\": \"\\u2018I might delete it\\u2019: Facebook\\u2019s problem with younger users\",\n",
      "  \"webUrl\": \"https://www.theguardian.com/technology/2021/oct/08/i-might-delete-it-facebooks-problem-with-younger-users\"\n",
      "}\n",
      "Total news stories: 40\n",
      "Pages: 4\n",
      "Page size: 10\n"
     ]
    }
   ],
   "source": [
    "# Solution to Task 7 below; change the q below for each subpart\n",
    "\n",
    "args = {\n",
    "    'section': 'technology', \n",
    "    'order-by': 'newest', \n",
    "    'api-key': myapikey, \n",
    "    'page-size': '10',\n",
    "#     'q' : 'privacy' # All stories about privacy\n",
    "#     'q' : 'privacy%20AND%20whatsapp%20AND%20signal' # privacy stories mentioning WhatsApp and Signal \n",
    "    'q' : 'privacy%20AND%20whatsapp%20AND%20signal%20AND%20NOT%20(AI%20OR%20%22Artificial%20Intelligence%22)%20'\n",
    "    # privacy AND whatsapp AND signal AND NOT (AI OR \"Artificial Intelligence\"): stories not mentioning AI\n",
    "}    \n",
    "\n",
    "# Construct the URL\n",
    "base_url = 'http://content.guardianapis.com/search'\n",
    "url = '{}?{}'.format(\n",
    "    base_url, \n",
    "    '&'.join([\"{}={}\".format(kk, vv) for kk, vv in args.items()])\n",
    ")\n",
    "\n",
    "# Make the request and extract the source\n",
    "req = requests.get(url) \n",
    "src = req.text\n",
    "\n",
    "print('Number of byes received:', len(src))\n",
    "\n",
    "# Parsing JSON\n",
    "response = json.loads(src)['response']\n",
    "print('The following are available:\\n ', sorted(response.keys()))\n",
    "\n",
    "# Verifying the status code\n",
    "assert response['status'] == 'ok'\n",
    "\n",
    "# Listing the results\n",
    "print(json.dumps(response['results'][0], indent=2, sort_keys=True))\n",
    "\n",
    "# Response statistics\n",
    "print('Total news stories:', response['total']) \n",
    "print('Pages:', response['pages'])\n",
    "print('Page size:', response['pageSize'])"
   ]
  },
  {
   "cell_type": "code",
   "execution_count": 88,
   "metadata": {},
   "outputs": [
    {
     "name": "stdout",
     "output_type": "stream",
     "text": [
      "https://www.theguardian.com/technology/2021/oct/08/i-might-delete-it-f ‘I might delete it’:\n",
      "https://www.theguardian.com/technology/2021/oct/06/tell-us-are-you-con  Tell us: are you co\n",
      "https://www.theguardian.com/technology/2021/aug/13/uk-security-chiefs- UK security chiefs i\n",
      "https://www.theguardian.com/technology/2021/jun/13/whatsapp-boss-decri WhatsApp boss decrie\n",
      "https://www.theguardian.com/technology/2021/may/11/what-happens-when-w What happens when Wh\n",
      "https://www.theguardian.com/technology/2021/may/09/how-private-is-your How private is your \n",
      "https://www.theguardian.com/technology/2021/feb/22/whatsapp-to-try-aga WhatsApp to try agai\n",
      "https://www.theguardian.com/technology/2021/feb/14/facebook-v-apple-th Facebook v Apple: th\n",
      "https://www.theguardian.com/technology/2021/jan/26/uk-regulator-to-wri UK regulator to writ\n",
      "https://www.theguardian.com/technology/2021/jan/24/whatsapp-loses-mill WhatsApp loses milli\n"
     ]
    }
   ],
   "source": [
    "# This cell is part of the initial iPython notebook that was shared.\n",
    "\n",
    "for result in response['results']: \n",
    "    print(result['webUrl'][:70], result['webTitle'][:20])"
   ]
  },
  {
   "cell_type": "markdown",
   "metadata": {},
   "source": [
    "## Task 8. Request Specific Content from the API\n",
    "\n",
    "Fetch the ith result from the list obtained from on the search query formed in Task 7. \n",
    "\n",
    "Identify the id of the ith result and fetch the headline and body text of the news story.  "
   ]
  },
  {
   "cell_type": "markdown",
   "metadata": {},
   "source": [
    "### Solution \n",
    "#### 1. Fetching the ith result\n",
    "\n",
    "Let's now request a specific piece of content from the API. \n",
    "\n",
    "We select the ith result from the above response and get its ```apiUrl``` and ```id```:"
   ]
  },
  {
   "cell_type": "code",
   "execution_count": 89,
   "metadata": {},
   "outputs": [
    {
     "name": "stdout",
     "output_type": "stream",
     "text": [
      "https://content.guardianapis.com/technology/2021/oct/08/i-might-delete-it-facebooks-problem-with-younger-users\n",
      "technology/2021/oct/08/i-might-delete-it-facebooks-problem-with-younger-users\n"
     ]
    }
   ],
   "source": [
    "i = 0\n",
    "api_url = response['results'][i]['apiUrl']\n",
    "api_id = response['results'][i]['id']\n",
    "\n",
    "print(api_url)\n",
    "print(api_id)"
   ]
  },
  {
   "cell_type": "markdown",
   "metadata": {},
   "source": [
    "#### 2. Fetching the headline and body text of the news story with id \n",
    "\n",
    "We then use the ```id``` to contstruct a search url string to request this piece of content from the API.\n",
    "\n",
    "(Note that you need to include the ```api-key``` in the search. You also need to specify if you want to include data fields other than the article metadata e.g. ```body``` and ```headline``` are included in the example below.)"
   ]
  },
  {
   "cell_type": "code",
   "execution_count": 90,
   "metadata": {},
   "outputs": [
    {
     "name": "stdout",
     "output_type": "stream",
     "text": [
      "https://content.guardianapis.com/search?ids=technology/2021/oct/08/i-might-delete-it-facebooks-problem-with-younger-users&api-key=300efc2b-aa7f-4cac-b4ff-eff86a248059&show-fields=headline,body\n"
     ]
    }
   ],
   "source": [
    "base_url = \"https://content.guardianapis.com/search?\"\n",
    "search_string = \"ids=%s&api-key=%s&show-fields=headline,body\" %(api_id, myapikey)\n",
    "\n",
    "url = base_url + search_string\n",
    "print(url)"
   ]
  },
  {
   "cell_type": "code",
   "execution_count": 91,
   "metadata": {},
   "outputs": [],
   "source": [
    "req = requests.get(url) \n",
    "src = req.text"
   ]
  },
  {
   "cell_type": "code",
   "execution_count": 92,
   "metadata": {},
   "outputs": [],
   "source": [
    "response = json.loads(src)['response']\n",
    "assert response['status'] == 'ok'"
   ]
  },
  {
   "cell_type": "code",
   "execution_count": 93,
   "metadata": {},
   "outputs": [
    {
     "name": "stdout",
     "output_type": "stream",
     "text": [
      "‘I might delete it’: Facebook’s problem with younger users\n"
     ]
    }
   ],
   "source": [
    "print(response['results'][0]['fields']['headline'])"
   ]
  },
  {
   "cell_type": "code",
   "execution_count": 94,
   "metadata": {},
   "outputs": [
    {
     "name": "stdout",
     "output_type": "stream",
     "text": [
      "<p>Oliver Coghlan embodies Facebook’s problems with teen and young adult audiences – a growing number of them do not like it. The 23-year-old says he stopped using Facebook regularly three years ago and he is considering deleting the app. His sole use for it now is to check people’s birthdays.</p> <p>“I haven’t deleted it yet but I might do soon – I really don’t like the company’s monopolistic behaviour,” said Coghlan, a British student based in the Netherlands. He added that the EU referendum and the 2016 US presidential election, and the online anger that accompanied those polls, convinced him that he wanted to spend less time on Facebook’s main platform.</p>  <figure class=\"element element-image element--supporting\" data-media-id=\"fac86f78ac2f178a655ac527d687f5edb9750de7\"> <img src=\"https://media.guim.co.uk/fac86f78ac2f178a655ac527d687f5edb9750de7/0_60_487_609/400.jpg\" alt=\"Oliver Coghlan\" width=\"400\" height=\"500\" class=\"gu-image\" /> <figcaption> <span class=\"element-image__caption\">Oliver Coghlan says he would also leave Instagram if he could find an alternative</span> <span class=\"element-image__credit\">Photograph: Oliver Coghlan</span> </figcaption> </figure>  <p>“There were comments that would come up from people arguing about stuff they don’t know about.”</p> <p>Facebook’s problem is that Coghlan, who says he would also leave the company’s Instagram app if he could find an alternative, is not the only one. According to internal documents leaked by whistleblower France Haugen, who delivered <a href=\"https://www.theguardian.com/technology/2021/oct/05/facebook-harms-children-damaging-democracy-claims-whistleblower\">hard-hitting testimony</a> to US senators on Tuesday, Facebook is struggling to recruit and retain a young audience.</p> <p>“Facebook understands that if they want the company to grow they have to find new users,” she told senators.</p> <p>The company’s own research, leaked by Haugen, shows that Facebook is having demographic problems. A section of a complaint filed by Haugen’s lawyers with the US financial watchdog refers to young users in “more developed economies” using Facebook less. It quotes an internal document stating that Facebook’s daily teenage and young adult (18-24) users have “been in decline since 2012-13” and “only users 25 and above are increasing their use of Facebook”.</p> <p>Further research reveals “engagement is declining for teens in most western, and several non-western, countries”. Haugen said that engagement is a key metric for Facebook, because it means users spend longer on the platform, which in turn appeals to advertisers who account for $84bn (£62bn) of the company’s $86bn in annual revenue.</p> <p>In her testimony, Haugen described how Instagram was key for recruiting younger users and that she “would not be surprised” if recently paused plans to build an app for 10- to 12-year-olds, <a href=\"https://www.theguardian.com/technology/2021/sep/27/facebook-pauses-instagram-kids-teen-mental-health-concerns\">Instagram Kids</a>, were revived. The plans were shelved after the Wall Street Journal, which was given access to internal documents by Haugen, revealed that Facebook knew from its own detailed research that Instagram was <a href=\"https://www.theguardian.com/technology/2021/sep/14/facebook-aware-instagram-harmful-effect-teenage-girls-leak-reveals\">having a negative impact</a> on the mental health of some teenage girls.</p>  <figure class=\"element element-image\" data-media-id=\"f2bad81e44a7e8c09ea48ba296212e97bb5a459c\"> <img src=\"https://media.guim.co.uk/f2bad81e44a7e8c09ea48ba296212e97bb5a459c/0_52_3422_2054/1000.jpg\" alt=\"Frances Haugen testifies before a Senate subcommittee.\" width=\"1000\" height=\"600\" class=\"gu-image\" /> <figcaption> <span class=\"element-image__caption\">Frances Haugen testifies before a Senate subcommittee.</span> <span class=\"element-image__credit\">Photograph: Lenin Nolly/NurPhoto/Rex/Shutterstock</span> </figcaption> </figure>  <p>Young demographics are vital for social media companies, according to Ygal Arounian at Wedbush Securities, a US financial firm, because they want loyal users to grow older with their platforms, which appeals to advertisers looking to shape buying decisions. In that context, attracting users on to Messenger Kids (for six to 12-year-olds) or Instagram (for those aged 13 and older) or Instagram Kids if it ever launches, is commercially advantageous if over time they gravitate on to Facebook and its 1.9 billion daily users worldwide. Instagram has more than 1 billion users.</p> <p>“Younger demos are critical to most platforms, not just Facebook,” says Arounian. “The below 13 demo [demographic], that was the cause of much consternation with the Instagram for kids app, isn’t necessarily key, but platforms in general want to capture younger audiences, and create a loyal audience as they grow older. Advertisers as well often value younger demos more.”</p> <p>If Coghlan’s decision to use Facebook less is a reflection of wider young audience behaviour, and according to the company’s documents it is, then it could signal trouble for the company. One of the leaked documents states that during Covid, “every cohort’s use of Facebook increased, except for those 23 and under, which continued to decline.”</p> <p>In the UK, the government is putting forward the online safety bill, which imposes a duty of care on social media companies to protect users from harmful content. It means, at least in the UK, that there will be greater scrutiny of any attempt by Facebook to launch youth-oriented products – whether via its eponymous platform, Instagram, the WhatsApp messaging app or its <a href=\"https://www.oculus.com/blog/an-update-on-the-evolution-of-the-oculus-platform-/?locale=en_GB\">Oculus virtual reality</a> service.</p> <p>Beeban Kidron, the crossbench peer who sits on the joint committee looking into the online safety bill and was behind the recent introduction of a <a href=\"https://www.theguardian.com/technology/2021/sep/02/uk-childrens-digital-privacy-code-comes-into-effect\">children’s online privacy code in the UK</a>, says Haugen’s testimony has “galvanised” public opinion.<br><br>“The UK is already leading the world in developing regulatory approaches for the digital age and what we have seen this week really helps galvanise public opinion and it helps us work with lawmakers in other parts of the world, particularly in the US, to get an accountable digital world. This is not about saying we don’t want digital engagement for children. We want digital engagement for children but we just want it on a basis that respects rights and safety.”</p> <p>Facebook said its most recent figures, which do not split out users by age, showed that its worldwide daily audience continued to grow, up 7% in the three months to 30 June, with the combined daily audience (including Instagram and WhatsApp) growing 12% to nearly 2.8 billion. It also referred the Guardian to a <a href=\"https://about.fb.com/news/2021/09/explaining-research-to-support-families/\">blogpost </a>in which the company said businesses that operate in a competitive field do target young audiences.</p> <p>“Companies that operate in a highly competitive space … make efforts to appeal to younger generations. Considering that our competitors are doing the same thing, it would actually be newsworthy if Facebook didn’t do this work.”</p> <ul> <li><p>This article was amended on 9 October 2021 to correct the spelling of Oliver Coghlan’s surname.</p></li> </ul>\n"
     ]
    }
   ],
   "source": [
    "body = response['results'][0]['fields']['body']\n",
    "print(body)"
   ]
  },
  {
   "cell_type": "markdown",
   "metadata": {},
   "source": [
    "#### 3. Simple Text Processing: Count Word Frequencies and Store in a Data Frame\n",
    "\n",
    "We can now do some simple text processing on the article text. e.g. count the word frequnecies:"
   ]
  },
  {
   "cell_type": "code",
   "execution_count": 95,
   "metadata": {},
   "outputs": [
    {
     "name": "stdout",
     "output_type": "stream",
     "text": [
      "993\n",
      "534\n"
     ]
    }
   ],
   "source": [
    "# First, we need to clean that data -- remove HTML tags. \n",
    "# Here is a \"not so good\" way to do it. You could consider BeautifulSoup here!\n",
    "\n",
    "words = body.replace('<p>','').replace('</p>','').split()\n",
    "print(len(words))\n",
    "unique_words = list(set(words))\n",
    "print(len(unique_words))\n",
    "#count_dictionary = {word: count for word, count in zip(words, [words.count(w) for w in words])}\n",
    "count_dictionary = {'word': unique_words, 'count': [words.count(w) for w in unique_words]}"
   ]
  },
  {
   "cell_type": "code",
   "execution_count": 96,
   "metadata": {},
   "outputs": [],
   "source": [
    "import pandas as pd"
   ]
  },
  {
   "cell_type": "code",
   "execution_count": 97,
   "metadata": {},
   "outputs": [
    {
     "data": {
      "text/html": [
       "<div>\n",
       "<style scoped>\n",
       "    .dataframe tbody tr th:only-of-type {\n",
       "        vertical-align: middle;\n",
       "    }\n",
       "\n",
       "    .dataframe tbody tr th {\n",
       "        vertical-align: top;\n",
       "    }\n",
       "\n",
       "    .dataframe thead th {\n",
       "        text-align: right;\n",
       "    }\n",
       "</style>\n",
       "<table border=\"1\" class=\"dataframe\">\n",
       "  <thead>\n",
       "    <tr style=\"text-align: right;\">\n",
       "      <th></th>\n",
       "      <th>word</th>\n",
       "      <th>count</th>\n",
       "    </tr>\n",
       "  </thead>\n",
       "  <tbody>\n",
       "    <tr>\n",
       "      <th>392</th>\n",
       "      <td>the</td>\n",
       "      <td>39</td>\n",
       "    </tr>\n",
       "    <tr>\n",
       "      <th>309</th>\n",
       "      <td>to</td>\n",
       "      <td>34</td>\n",
       "    </tr>\n",
       "    <tr>\n",
       "      <th>490</th>\n",
       "      <td>that</td>\n",
       "      <td>21</td>\n",
       "    </tr>\n",
       "    <tr>\n",
       "      <th>288</th>\n",
       "      <td>and</td>\n",
       "      <td>20</td>\n",
       "    </tr>\n",
       "    <tr>\n",
       "      <th>49</th>\n",
       "      <td>a</td>\n",
       "      <td>17</td>\n",
       "    </tr>\n",
       "    <tr>\n",
       "      <th>...</th>\n",
       "      <td>...</td>\n",
       "      <td>...</td>\n",
       "    </tr>\n",
       "    <tr>\n",
       "      <th>205</th>\n",
       "      <td>users,”</td>\n",
       "      <td>1</td>\n",
       "    </tr>\n",
       "    <tr>\n",
       "      <th>203</th>\n",
       "      <td>crossbench</td>\n",
       "      <td>1</td>\n",
       "    </tr>\n",
       "    <tr>\n",
       "      <th>202</th>\n",
       "      <td>accountable</td>\n",
       "      <td>1</td>\n",
       "    </tr>\n",
       "    <tr>\n",
       "      <th>201</th>\n",
       "      <td>alternative&lt;/span&gt;</td>\n",
       "      <td>1</td>\n",
       "    </tr>\n",
       "    <tr>\n",
       "      <th>533</th>\n",
       "      <td>Ygal</td>\n",
       "      <td>1</td>\n",
       "    </tr>\n",
       "  </tbody>\n",
       "</table>\n",
       "<p>534 rows × 2 columns</p>\n",
       "</div>"
      ],
      "text/plain": [
       "                   word  count\n",
       "392                 the     39\n",
       "309                  to     34\n",
       "490                that     21\n",
       "288                 and     20\n",
       "49                    a     17\n",
       "..                  ...    ...\n",
       "205             users,”      1\n",
       "203          crossbench      1\n",
       "202         accountable      1\n",
       "201  alternative</span>      1\n",
       "533                Ygal      1\n",
       "\n",
       "[534 rows x 2 columns]"
      ]
     },
     "execution_count": 97,
     "metadata": {},
     "output_type": "execute_result"
    }
   ],
   "source": [
    "df = pd.DataFrame(count_dictionary)\n",
    "df.sort_values(by='count', ascending=False)\n",
    "\n",
    "# We could export the data frame in a CSV and observe the complete output\n",
    "# df.to_csv('term-frequency.csv')"
   ]
  },
  {
   "cell_type": "markdown",
   "metadata": {},
   "source": [
    "We now have a dataframe with word occurence frequency in the article. Try importing the data frame to a CSV.\n",
    "\n",
    "We notice because of punctuation marks some words appear more than once.  For instance, ```UK``` could occur as ```UK.``` and ```Facebook``` could also occurs as ```Facebook,``` and ```Facebook,\"```. \n",
    "\n",
    "One option to fix this would be to strip out the punctuation using Python string manipulation. \n",
    "\n",
    "You could also use regular expressions to remove the punctuations. \n",
    "\n",
    "Below is an imperfect solution using regular expressions. You will notice it fails for several instances. As you work on it, you will find a better solution. Please post yours on Teams or Discussion Forum. :)"
   ]
  },
  {
   "cell_type": "code",
   "execution_count": 98,
   "metadata": {},
   "outputs": [],
   "source": [
    "import re  ## imports the regular expression library\n",
    "words_wo_punctuation = re.sub(r'[^\\w\\s]','',body.replace('<p>','').replace('</p>','')).split()  "
   ]
  },
  {
   "cell_type": "markdown",
   "metadata": {},
   "source": [
    "Note that the regex ```r'[^\\w\\s]'``` substitutes anything in ```body``` that is not a word ```\\w``` or and blank space ```\\s``` with the empty string ```''```."
   ]
  },
  {
   "cell_type": "code",
   "execution_count": 99,
   "metadata": {},
   "outputs": [
    {
     "name": "stdout",
     "output_type": "stream",
     "text": [
      "469\n"
     ]
    }
   ],
   "source": [
    "unique_words = list(set(words_wo_punctuation))\n",
    "print(len(unique_words))\n",
    "count_dictionary = {'word': unique_words, 'count': [words_wo_punctuation.count(w) for w in unique_words]}"
   ]
  },
  {
   "cell_type": "code",
   "execution_count": 100,
   "metadata": {},
   "outputs": [
    {
     "data": {
      "text/html": [
       "<div>\n",
       "<style scoped>\n",
       "    .dataframe tbody tr th:only-of-type {\n",
       "        vertical-align: middle;\n",
       "    }\n",
       "\n",
       "    .dataframe tbody tr th {\n",
       "        vertical-align: top;\n",
       "    }\n",
       "\n",
       "    .dataframe thead th {\n",
       "        text-align: right;\n",
       "    }\n",
       "</style>\n",
       "<table border=\"1\" class=\"dataframe\">\n",
       "  <thead>\n",
       "    <tr style=\"text-align: right;\">\n",
       "      <th></th>\n",
       "      <th>word</th>\n",
       "      <th>count</th>\n",
       "    </tr>\n",
       "  </thead>\n",
       "  <tbody>\n",
       "    <tr>\n",
       "      <th>335</th>\n",
       "      <td>the</td>\n",
       "      <td>39</td>\n",
       "    </tr>\n",
       "    <tr>\n",
       "      <th>260</th>\n",
       "      <td>to</td>\n",
       "      <td>34</td>\n",
       "    </tr>\n",
       "    <tr>\n",
       "      <th>46</th>\n",
       "      <td>a</td>\n",
       "      <td>23</td>\n",
       "    </tr>\n",
       "    <tr>\n",
       "      <th>427</th>\n",
       "      <td>that</td>\n",
       "      <td>21</td>\n",
       "    </tr>\n",
       "    <tr>\n",
       "      <th>241</th>\n",
       "      <td>and</td>\n",
       "      <td>20</td>\n",
       "    </tr>\n",
       "    <tr>\n",
       "      <th>...</th>\n",
       "      <td>...</td>\n",
       "      <td>...</td>\n",
       "    </tr>\n",
       "    <tr>\n",
       "      <th>184</th>\n",
       "      <td>context</td>\n",
       "      <td>1</td>\n",
       "    </tr>\n",
       "    <tr>\n",
       "      <th>183</th>\n",
       "      <td>galvanised</td>\n",
       "      <td>1</td>\n",
       "    </tr>\n",
       "    <tr>\n",
       "      <th>182</th>\n",
       "      <td>decision</td>\n",
       "      <td>1</td>\n",
       "    </tr>\n",
       "    <tr>\n",
       "      <th>180</th>\n",
       "      <td>peoples</td>\n",
       "      <td>1</td>\n",
       "    </tr>\n",
       "    <tr>\n",
       "      <th>468</th>\n",
       "      <td>Ygal</td>\n",
       "      <td>1</td>\n",
       "    </tr>\n",
       "  </tbody>\n",
       "</table>\n",
       "<p>469 rows × 2 columns</p>\n",
       "</div>"
      ],
      "text/plain": [
       "           word  count\n",
       "335         the     39\n",
       "260          to     34\n",
       "46            a     23\n",
       "427        that     21\n",
       "241         and     20\n",
       "..          ...    ...\n",
       "184     context      1\n",
       "183  galvanised      1\n",
       "182    decision      1\n",
       "180     peoples      1\n",
       "468        Ygal      1\n",
       "\n",
       "[469 rows x 2 columns]"
      ]
     },
     "execution_count": 100,
     "metadata": {},
     "output_type": "execute_result"
    }
   ],
   "source": [
    "df = pd.DataFrame(count_dictionary)\n",
    "df.sort_values(by='count', ascending=False)\n",
    "\n",
    "# We could export the data frame in a CSV and observe the complete output\n",
    "# df.to_csv('term-frequency-regex.csv')\n",
    "# Open the CSV in a text editor or a spread sheet and analyse the output"
   ]
  },
  {
   "cell_type": "code",
   "execution_count": 101,
   "metadata": {},
   "outputs": [],
   "source": [
    "df.sort_values(by='count', ascending=False).to_csv('term-frequency-regex.csv')"
   ]
  },
  {
   "cell_type": "markdown",
   "metadata": {},
   "source": [
    "This Python Regular Expression cheatsheet (Courtesy: Laura Gemmel) is useful: \n",
    "https://www.dataquest.io/wp-content/uploads/2019/03/python-regular-expressions-cheat-sheet.pdf\n",
    "\n",
    "Use the cheat sheet to create a better regular expression and filter the body text. \n",
    "Post your solutions on the BB forum."
   ]
  }
 ],
 "metadata": {
  "kernelspec": {
   "display_name": "Python 3 (ipykernel)",
   "language": "python",
   "name": "python3"
  },
  "language_info": {
   "codemirror_mode": {
    "name": "ipython",
    "version": 3
   },
   "file_extension": ".py",
   "mimetype": "text/x-python",
   "name": "python",
   "nbconvert_exporter": "python",
   "pygments_lexer": "ipython3",
   "version": "3.8.12"
  }
 },
 "nbformat": 4,
 "nbformat_minor": 4
}
